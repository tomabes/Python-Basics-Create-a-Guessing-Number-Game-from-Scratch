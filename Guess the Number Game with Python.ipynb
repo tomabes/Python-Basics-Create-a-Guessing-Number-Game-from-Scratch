{
 "cells": [
  {
   "cell_type": "code",
   "execution_count": 1,
   "id": "827f56da",
   "metadata": {},
   "outputs": [
    {
     "data": {
      "text/plain": [
       "27"
      ]
     },
     "execution_count": 1,
     "metadata": {},
     "output_type": "execute_result"
    }
   ],
   "source": [
    "3*9"
   ]
  },
  {
   "cell_type": "code",
   "execution_count": 11,
   "id": "ce7f4b1c",
   "metadata": {},
   "outputs": [
    {
     "name": "stdout",
     "output_type": "stream",
     "text": [
      "Hi, what's your name?\n",
      "Roy\n",
      "Nice to meet you, Roy . Let's play a game\n",
      "I'll think of a number btw 1 and 20 and you have to guess it in less than 6 guesses\n",
      "Take a guess:\n",
      "10\n",
      "Wrong, your guess is lower than the number\n",
      "Take a guess:\n",
      "15\n",
      "Wrong, your guess is higher than the number\n",
      "Take a guess:\n",
      "12\n",
      "Wrong, your guess is lower than the number\n",
      "Take a guess:\n",
      "13\n",
      "Wrong, your guess is lower than the number\n",
      "Take a guess:\n",
      "14\n",
      "Good job, Roy ! You guessed my number in 5 guesses!\n"
     ]
    }
   ],
   "source": [
    "import random\n",
    "print(\"Hi, what's your name?\")\n",
    "name=input()\n",
    "print(\"Nice to meet you,\",name, \". Let's play a game\")\n",
    "print(\"I'll think of a number btw 1 and 20 and you have to guess it in less than 6 guesses\")\n",
    "number=random.randint(1,20)\n",
    "guesses_no=0\n",
    "while (guesses_no<6):\n",
    "    print(\"Take a guess:\")\n",
    "    guess=input()\n",
    "    guess=int(guess)\n",
    "    guesses_no=guesses_no+1\n",
    "    if (guess<number):\n",
    "        print(\"Wrong, your guess is lower than the number\")\n",
    "    if (guess>number):\n",
    "        print(\"Wrong, your guess is higher than the number\")\n",
    "    if (guess==number):\n",
    "        break;\n",
    "if (guess==number):\n",
    "    print(\"Good job,\",name,\"! You guessed my number in\",guesses_no,\"guesses!\")\n",
    "if (guess!=number):\n",
    "    print(\"Sorry, the number I was thinking of was \", number, \"/nYou should try again\")\n",
    "    \n"
   ]
  },
  {
   "cell_type": "code",
   "execution_count": null,
   "id": "2780d57c",
   "metadata": {},
   "outputs": [],
   "source": []
  },
  {
   "cell_type": "code",
   "execution_count": null,
   "id": "87588d45",
   "metadata": {},
   "outputs": [],
   "source": []
  }
 ],
 "metadata": {
  "kernelspec": {
   "display_name": "Python 3 (ipykernel)",
   "language": "python",
   "name": "python3"
  },
  "language_info": {
   "codemirror_mode": {
    "name": "ipython",
    "version": 3
   },
   "file_extension": ".py",
   "mimetype": "text/x-python",
   "name": "python",
   "nbconvert_exporter": "python",
   "pygments_lexer": "ipython3",
   "version": "3.10.6"
  }
 },
 "nbformat": 4,
 "nbformat_minor": 5
}
